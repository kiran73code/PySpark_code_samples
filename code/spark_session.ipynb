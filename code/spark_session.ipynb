{
 "cells": [
  {
   "cell_type": "code",
   "execution_count": 1,
   "id": "aa4771c1",
   "metadata": {},
   "outputs": [
    {
     "name": "stdout",
     "output_type": "stream",
     "text": [
      "PYSPARK_PYTHON set to: d:\\Courses\\Pyspark\\PySpark_code_samples\\.venv\\Scripts\\python.exe\n"
     ]
    }
   ],
   "source": [
    "import sys\n",
    "import os\n",
    "\n",
    "# Set PySpark to use the current Python executable\n",
    "os.environ[\"PYSPARK_PYTHON\"] = sys.executable\n",
    "\n",
    "print(\"PYSPARK_PYTHON set to:\", sys.executable)\n",
    "\n"
   ]
  },
  {
   "cell_type": "code",
   "execution_count": 2,
   "id": "3dc54823",
   "metadata": {},
   "outputs": [],
   "source": [
    "from pyspark.sql import SparkSession\n",
    "\n",
    "spark = SparkSession.builder.appName(\"spark_session\").master(\"local[*]\").getOrCreate()"
   ]
  },
  {
   "cell_type": "code",
   "execution_count": 3,
   "id": "95d84d03",
   "metadata": {},
   "outputs": [
    {
     "data": {
      "text/html": [
       "\n",
       "            <div>\n",
       "                <p><b>SparkSession - in-memory</b></p>\n",
       "                \n",
       "        <div>\n",
       "            <p><b>SparkContext</b></p>\n",
       "\n",
       "            <p><a href=\"http://192.168.1.7:4040\">Spark UI</a></p>\n",
       "\n",
       "            <dl>\n",
       "              <dt>Version</dt>\n",
       "                <dd><code>v4.0.1</code></dd>\n",
       "              <dt>Master</dt>\n",
       "                <dd><code>local[*]</code></dd>\n",
       "              <dt>AppName</dt>\n",
       "                <dd><code>spark_session</code></dd>\n",
       "            </dl>\n",
       "        </div>\n",
       "        \n",
       "            </div>\n",
       "        "
      ],
      "text/plain": [
       "<pyspark.sql.session.SparkSession at 0x2d589ccd9c0>"
      ]
     },
     "execution_count": 3,
     "metadata": {},
     "output_type": "execute_result"
    }
   ],
   "source": [
    "spark"
   ]
  },
  {
   "cell_type": "code",
   "execution_count": 5,
   "id": "83647a4a",
   "metadata": {},
   "outputs": [],
   "source": [
    "student_data = [\n",
    "    (\"001\", \"Alice\", \"200\"),\n",
    "    (\"002\", \"Bob\", \"250\"),\n",
    "    (\"003\", \"Cathy\", \"300\")\n",
    "]\n",
    "\n",
    "student_schema = \"student_id\", \"student_name\", \"student_score\""
   ]
  },
  {
   "cell_type": "code",
   "execution_count": 6,
   "id": "326b1873",
   "metadata": {},
   "outputs": [],
   "source": [
    "# create dataframe\n",
    "student_df = spark.createDataFrame(data=student_data, schema=student_schema)"
   ]
  },
  {
   "cell_type": "code",
   "execution_count": 7,
   "id": "9c996c87",
   "metadata": {},
   "outputs": [
    {
     "name": "stdout",
     "output_type": "stream",
     "text": [
      "+----------+------------+-------------+\n",
      "|student_id|student_name|student_score|\n",
      "+----------+------------+-------------+\n",
      "|       001|       Alice|          200|\n",
      "|       002|         Bob|          250|\n",
      "|       003|       Cathy|          300|\n",
      "+----------+------------+-------------+\n",
      "\n"
     ]
    }
   ],
   "source": [
    "student_df.show()"
   ]
  },
  {
   "cell_type": "code",
   "execution_count": 8,
   "id": "fef48ee3",
   "metadata": {},
   "outputs": [
    {
     "name": "stdout",
     "output_type": "stream",
     "text": [
      "root\n",
      " |-- student_id: string (nullable = true)\n",
      " |-- student_name: string (nullable = true)\n",
      " |-- student_score: string (nullable = true)\n",
      "\n"
     ]
    }
   ],
   "source": [
    "student_df.printSchema()"
   ]
  },
  {
   "cell_type": "code",
   "execution_count": 9,
   "id": "d4d901c3",
   "metadata": {},
   "outputs": [
    {
     "data": {
      "text/plain": [
       "16"
      ]
     },
     "execution_count": 9,
     "metadata": {},
     "output_type": "execute_result"
    }
   ],
   "source": [
    "student_df.rdd.getNumPartitions()"
   ]
  },
  {
   "cell_type": "code",
   "execution_count": 10,
   "id": "80b121ca",
   "metadata": {},
   "outputs": [],
   "source": [
    "# Transformation example\n",
    "passed_student_df = student_df.where(\"student_score >= 250\")"
   ]
  },
  {
   "cell_type": "code",
   "execution_count": 11,
   "id": "1adeaf39",
   "metadata": {},
   "outputs": [
    {
     "name": "stdout",
     "output_type": "stream",
     "text": [
      "+----------+------------+-------------+\n",
      "|student_id|student_name|student_score|\n",
      "+----------+------------+-------------+\n",
      "|       002|         Bob|          250|\n",
      "|       003|       Cathy|          300|\n",
      "+----------+------------+-------------+\n",
      "\n"
     ]
    }
   ],
   "source": [
    "# action example\n",
    "passed_student_df.show()"
   ]
  },
  {
   "cell_type": "code",
   "execution_count": null,
   "id": "b2db11a3",
   "metadata": {},
   "outputs": [],
   "source": [
    "# Write the passed students to a CSV file\n",
    "passed_student_df.write.mode(\"overwrite\").format(\"csv\").option(\"header\", \"true\").save(\"data/passed_students_csv\")\n"
   ]
  },
  {
   "cell_type": "code",
   "execution_count": null,
   "id": "e30c6462",
   "metadata": {},
   "outputs": [],
   "source": [
    "# Write the passed students to a single CSV file\n",
    "\n",
    "passed_student_df.coalesce(1).write.mode(\"overwrite\").format(\"csv\").option(\"header\", \"true\").save(\"data/passed_students_csv_single_file\")"
   ]
  },
  {
   "cell_type": "code",
   "execution_count": null,
   "id": "d0ba9ec0",
   "metadata": {},
   "outputs": [],
   "source": [
    "# Read the data back\n",
    "new_data = spark.read.format(\"csv\").option(\"header\", \"true\").load(\"data/passed_students_csv\")"
   ]
  },
  {
   "cell_type": "code",
   "execution_count": 17,
   "id": "eadf615b",
   "metadata": {},
   "outputs": [
    {
     "name": "stdout",
     "output_type": "stream",
     "text": [
      "+----------+------------+-------------+\n",
      "|student_id|student_name|student_score|\n",
      "+----------+------------+-------------+\n",
      "|       003|       Cathy|          300|\n",
      "|       002|         Bob|          250|\n",
      "+----------+------------+-------------+\n",
      "\n"
     ]
    }
   ],
   "source": [
    "new_data.show()"
   ]
  },
  {
   "cell_type": "markdown",
   "id": "1516917d",
   "metadata": {},
   "source": []
  }
 ],
 "metadata": {
  "kernelspec": {
   "display_name": ".venv",
   "language": "python",
   "name": "python3"
  },
  "language_info": {
   "codemirror_mode": {
    "name": "ipython",
    "version": 3
   },
   "file_extension": ".py",
   "mimetype": "text/x-python",
   "name": "python",
   "nbconvert_exporter": "python",
   "pygments_lexer": "ipython3",
   "version": "3.10.11"
  }
 },
 "nbformat": 4,
 "nbformat_minor": 5
}
